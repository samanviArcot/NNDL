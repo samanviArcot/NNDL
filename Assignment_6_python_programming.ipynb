{
  "nbformat": 4,
  "nbformat_minor": 0,
  "metadata": {
    "colab": {
      "name": "Assignment 6-python programming.ipynb",
      "provenance": [],
      "authorship_tag": "ABX9TyO+rKX8isbjQDiaTWCM6FiN",
      "include_colab_link": true
    },
    "kernelspec": {
      "name": "python3",
      "display_name": "Python 3"
    },
    "language_info": {
      "name": "python"
    }
  },
  "cells": [
    {
      "cell_type": "markdown",
      "metadata": {
        "id": "view-in-github",
        "colab_type": "text"
      },
      "source": [
        "<a href=\"https://colab.research.google.com/github/samanviArcot/NNDL/blob/main/Assignment_6_python_programming.ipynb\" target=\"_parent\"><img src=\"https://colab.research.google.com/assets/colab-badge.svg\" alt=\"Open In Colab\"/></a>"
      ]
    },
    {
      "cell_type": "code",
      "metadata": {
        "colab": {
          "resources": {
            "http://localhost:8080/nbextensions/google.colab/files.js": {
              "data": "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",
              "ok": true,
              "headers": [
                [
                  "content-type",
                  "application/javascript"
                ]
              ],
              "status": 200,
              "status_text": ""
            }
          },
          "base_uri": "https://localhost:8080/",
          "height": 73
        },
        "id": "s3qtFyD7F5Z1",
        "outputId": "0f17032e-f6d2-4b9f-f1a6-ce0fda2aa0f7"
      },
      "source": [
        "from google.colab import files \n",
        "uploaded = files.upload()"
      ],
      "execution_count": null,
      "outputs": [
        {
          "output_type": "display_data",
          "data": {
            "text/html": [
              "\n",
              "     <input type=\"file\" id=\"files-eae12302-6fcd-4c23-8082-2d62fad45283\" name=\"files[]\" multiple disabled\n",
              "        style=\"border:none\" />\n",
              "     <output id=\"result-eae12302-6fcd-4c23-8082-2d62fad45283\">\n",
              "      Upload widget is only available when the cell has been executed in the\n",
              "      current browser session. Please rerun this cell to enable.\n",
              "      </output>\n",
              "      <script src=\"/nbextensions/google.colab/files.js\"></script> "
            ],
            "text/plain": [
              "<IPython.core.display.HTML object>"
            ]
          },
          "metadata": {
            "tags": []
          }
        },
        {
          "output_type": "stream",
          "text": [
            "Saving kc_house_data.csv to kc_house_data.csv\n"
          ],
          "name": "stdout"
        }
      ]
    },
    {
      "cell_type": "code",
      "metadata": {
        "colab": {
          "base_uri": "https://localhost:8080/"
        },
        "id": "V8sqaZndGHHK",
        "outputId": "1c1f28de-84f3-4d80-a363-a30adf94f073"
      },
      "source": [
        "#Mini Batch gradient descent algorithm\n",
        "import csv\n",
        "import pandas as pd\n",
        "import numpy as np\n",
        "import math\n",
        "df = pd.read_csv('kc_house_data.csv')\n",
        "print(df.head())\n",
        "n=15\n",
        "x1=df.iloc[7:22,2:3]\n",
        "y1=df.iloc[7:22,5:6]\n",
        "xi=np.array(x1)\n",
        "yi=np.array(y1)\n",
        "print(xi,yi)\n",
        "m=0.1\n",
        "c=-0.1\n",
        "lr=0.00001\n",
        "bs=5\n",
        "epoch=10\n",
        "it=1\n",
        "bat=1\n",
        "nb=int(n/bs)\n",
        "#print(nb)\n",
        "while(it<epoch):\n",
        "  #print(yi[samp],xi[samp])\n",
        "  res=0\n",
        "  res1=0\n",
        "  for ba in range(0,bs):\n",
        "    res+=(yi[ba+bat]-m*xi[ba+bat]-c)*(xi[ba+bat])\n",
        "    res1+=(yi[ba+bat]-m*xi[ba+bat]-c)\n",
        "  print(res,res1)\n",
        "  dm=-(res)/bs\n",
        "  dc=-(res1)/bs\n",
        "  m1=-(lr)*(dm)\n",
        "  c1=-(lr)*(dc)\n",
        "  m+=m1\n",
        "  c+=c1\n",
        "  #print(m,c)\n",
        "  bat+=1\n",
        "  if(bat>nb):\n",
        "    it+=1\n",
        "    bat=0\n",
        "print(\"final m and c values:\")\n",
        "print(m,c)\n",
        "ye=[]\n",
        "ye1=[]\n",
        "#Calculating MSE Values\n",
        "for x in xi:\n",
        "  y=m*x+c\n",
        "  ye.append(y)\n",
        "print(\"\\nye\\n\",ye)\n",
        "for i in range(0,n):\n",
        "  y=yi[i]-ye[i]\n",
        "  y=y\n",
        "  ye1.append(y)\n",
        "print(\"\\ny-ye\\n\",ye1)\n",
        "s=0.0\n",
        "for y in ye1:\n",
        "  s+=y\n",
        "s=math.sqrt(s)\n",
        "print(\"\\nThe RMES Error\")\n",
        "print(s/n)\n",
        "print(\"\\n\")\n",
        "print(\"\\n\")\n",
        "x1=df.iloc[23:39,2:3]\n",
        "y1=df.iloc[23:39,5:6]\n",
        "xi=np.array(x1)\n",
        "yi=np.array(y1)\n",
        "ye=[]\n",
        "for x in xi:\n",
        "  y=int(m*x+c)\n",
        "  ye.append(y)\n",
        "yee1=[]\n",
        "xee1=[]\n",
        "for y in yi:\n",
        "  yee1.append(int(y))\n",
        "for x in xi:\n",
        "  xee1.append(int(x))\n",
        "print(\"Original values(x) : \",xee1)\n",
        "print(\"Original values : \",yee1)\n",
        "print(\"predicted values : \",ye)\n",
        "  "
      ],
      "execution_count": null,
      "outputs": [
        {
          "output_type": "stream",
          "text": [
            "           id             date     price  ...     long  sqft_living15  sqft_lot15\n",
            "0  7129300520  20141013T000000  221900.0  ... -122.257           1340        5650\n",
            "1  6414100192  20141209T000000  538000.0  ... -122.319           1690        7639\n",
            "2  5631500400  20150225T000000  180000.0  ... -122.233           2720        8062\n",
            "3  2487200875  20141209T000000  604000.0  ... -122.393           1360        5000\n",
            "4  1954400510  20150218T000000  510000.0  ... -122.045           1800        7503\n",
            "\n",
            "[5 rows x 21 columns]\n",
            "[[ 291850.]\n",
            " [ 229500.]\n",
            " [ 323000.]\n",
            " [ 662500.]\n",
            " [ 468000.]\n",
            " [ 310000.]\n",
            " [ 400000.]\n",
            " [ 530000.]\n",
            " [ 650000.]\n",
            " [ 395000.]\n",
            " [ 485000.]\n",
            " [ 189000.]\n",
            " [ 230000.]\n",
            " [ 385000.]\n",
            " [2000000.]] [[1060]\n",
            " [1780]\n",
            " [1890]\n",
            " [3560]\n",
            " [1160]\n",
            " [1430]\n",
            " [1370]\n",
            " [1810]\n",
            " [2950]\n",
            " [1890]\n",
            " [1600]\n",
            " [1200]\n",
            " [1250]\n",
            " [1620]\n",
            " [3050]]\n",
            "[-8.67390907e+10] [-189479.5]\n",
            "[1.76663013e+17] [3.75319839e+11]\n",
            "[-4.2219975e+23] [-8.37558935e+17]\n",
            "[7.60048673e+29] [1.66756166e+24]\n",
            "[-1.38485276e+36] [-3.02955233e+30]\n",
            "[2.82055368e+42] [5.99225459e+36]\n",
            "[-6.74072652e+48] [-1.33722384e+43]\n",
            "[1.21347306e+55] [2.66238364e+49]\n",
            "[-2.21101829e+61] [-4.83690095e+55]\n",
            "[4.50321938e+67] [9.56707089e+61]\n",
            "[-1.07620608e+74] [-2.13497526e+68]\n",
            "[1.93739813e+80] [4.25068939e+74]\n",
            "[-3.53005174e+86] [-7.72246466e+80]\n",
            "[7.18971774e+92] [1.52745255e+87]\n",
            "[-1.7182414e+99] [-3.40864351e+93]\n",
            "[3.09319722e+105] [6.78653521e+99]\n",
            "[-5.63598471e+111] [-1.23294773e+106]\n",
            "[1.1478908e+118] [2.43868925e+112]\n",
            "[-2.74329754e+124] [-5.44214762e+118]\n",
            "[4.93851466e+130] [1.08351978e+125]\n",
            "[-8.99826009e+136] [-1.96849085e+131]\n",
            "[1.83269127e+143] [3.893545e+137]\n",
            "[-4.37987433e+149] [-8.68878506e+143]\n",
            "[7.88469835e+155] [1.72991824e+150]\n",
            "[-1.43663776e+162] [-3.14283902e+156]\n",
            "[2.9260251e+168] [6.21632818e+162]\n",
            "[-6.99278838e+174] [-1.38722782e+169]\n",
            "[1.25884952e+181] [2.76194047e+175]\n",
            "[-2.29369682e+187] [-5.0177714e+181]\n",
            "[4.67161219e+193] [9.92482071e+187]\n",
            "[-1.1164496e+200] [-2.21481025e+194]\n",
            "[2.00984495e+206] [4.40963912e+200]\n",
            "[-3.66205404e+212] [-8.0112375e+206]\n",
            "[7.45856911e+218] [1.58456991e+213]\n",
            "[-1.7824931e+225] [-3.53610588e+219]\n",
            "final m and c values:\n",
            "[-3.5649847e+219] [-7.07220859e+213]\n",
            "\n",
            "ye\n",
            " [array([-1.04044078e+225]), array([-8.18163989e+224]), array([-1.15149006e+225]), array([-2.36180236e+225]), array([-1.66841284e+225]), array([-1.10514526e+225]), array([-1.42599388e+225]), array([-1.88944189e+225]), array([-2.31724006e+225]), array([-1.40816896e+225]), array([-1.72901758e+225]), array([-6.73782108e+224]), array([-8.19946481e+224]), array([-1.37251911e+225]), array([-7.1299694e+225])]\n",
            "\n",
            "y-ye\n",
            " [array([1.04044078e+225]), array([8.18163989e+224]), array([1.15149006e+225]), array([2.36180236e+225]), array([1.66841284e+225]), array([1.10514526e+225]), array([1.42599388e+225]), array([1.88944189e+225]), array([2.31724006e+225]), array([1.40816896e+225]), array([1.72901758e+225]), array([6.73782108e+224]), array([8.19946481e+224]), array([1.37251911e+225]), array([7.1299694e+225])]\n",
            "\n",
            "The RMES Error\n",
            "1.0936490348186775e+112\n",
            "\n",
            "\n",
            "\n",
            "\n",
            "Original values(x) :  [252700, 329000, 233000, 937000, 667000, 438000, 719000, 580500, 280000, 687500, 535000, 322500, 696000, 550000, 640000, 240000]\n",
            "Original values :  [1070, 2450, 1710, 2450, 1400, 1520, 2570, 2320, 1190, 2330, 1090, 2060, 2300, 1660, 2360, 1220]\n",
            "predicted values :  [-900871633793982362057164177531898552063483749967878872278726900918061516866241452951877016077420184744250766823688987215482472133114957635376391352890444757206602308426424239535511535986640673324466650865277447621124573626368, -1172879966433243341527295928223748249232555791770603356198184053752657924857227319500147785484804409991054678799755291367224007496716063116572821826608810372253173653406589100867665465678311028478402942593196572481778247270400, -830641435196427380070295910119855314919624278203693329198065369575138637644639826242551537638528404418228698762776834640957145199069000226833222447289737149652767637692348333350836988734679611006803234658691795289338514767872, -3340390664266410659076970913850611229798631804350311398003952151612458452346872854403911163754483935813407862568247915051666730700295985333304263713645952188071180865273376465538939892284260156493221269151500388759458908471296, -2377844795162865921584702353608417446994387397447146445611229763198357122050168861708684049609122380501159098721720162549557846196509843017027819663914687552080237305018896082929803290971447132500746247352972810463141645254656, -1561463298775044717287591725871151802148239588631063933447677295198626634941310240155123195811956775907620373240615854320680804193922027585159542815028779719070531062968070822613493976271569579628384440220926048750152907227136, -2563223999582807578797885471782459921405396530621348646608727992272154813536150571298200699532627821876117956337248587458317583794745449332416306100318272048948042880407859899845803425569955667214273406125871606766881355071488, -2069473618579693273948762269314530042645723967828616281061130054120230189490811273778310898794083477527280801268070245637943456541286057074797469012972323591595458525478621059734736163820923000016804334875120632386126757232640, -998195716114451797845784083927939691641637080885943347181661006471478548624893138845525186000770817886935870541697050629868445074416372363698249859299874907159884868654140867856707495756415131444865382775083281571753567977472, -2450926981520727523803034396474209414692501856486666867277695885181359434322813326381637357999444664808434859229792783842955990691539702927374645446093495230826644381249447082975477211514021174571310420801128304026891791106048, -1907266814712243830749486270752226573693289456289126959843962589008107881476742615193844364759689143167954024830565571313125355876121990953260769926387574988603493898399448036631016877755546951673990769293579441436612160913408, -1149707565880750469996401115065320838650245810119807282625377936894250104100201384903578382460590538767105562923175137410411263541367308795292003203814491587400486373611692062652425726089603768149719613861499308215896666800128, -2481229351473987356860705956733688904862783906335852133435310574200423611010641908131975890361674023615716352910871861704995220438271472332807750805942741000521291631963723258595064691238995118005976727349462458192468880916480, -1960741585217996535338052644170133474445881487789108299574383394885579878921597131540752300146132373199184634388224803131977329578202514679974693909031139543150828428908621250465844097069228155437340404573610859868070831194112, -2281590208252511447835475497584198068713962956756829950371957524356946989020498462439161338194586224969934222337067387299346957746131228785400175258941561088481142948993448044668889630840165830101498745173120052633509918932992, -855596328099111909793261448360209694758460356902076301693014210361618992723727312178623312105358302011971279753162169152467622224478856553223483845225852319343839118781451875366793801975506695367236090902005824666186914201600]\n"
          ],
          "name": "stdout"
        }
      ]
    }
  ]
}