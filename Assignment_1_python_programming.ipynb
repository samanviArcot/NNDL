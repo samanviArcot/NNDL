{
  "nbformat": 4,
  "nbformat_minor": 0,
  "metadata": {
    "colab": {
      "name": "Assignment 1-python programming.ipynb",
      "provenance": [],
      "collapsed_sections": [],
      "authorship_tag": "ABX9TyMTRtiMSfxahudg/y9YkG+2",
      "include_colab_link": true
    },
    "kernelspec": {
      "name": "python3",
      "display_name": "Python 3"
    }
  },
  "cells": [
    {
      "cell_type": "markdown",
      "metadata": {
        "id": "view-in-github",
        "colab_type": "text"
      },
      "source": [
        "<a href=\"https://colab.research.google.com/github/samanviArcot/NNDL/blob/main/Assignment_1_python_programming.ipynb\" target=\"_parent\"><img src=\"https://colab.research.google.com/assets/colab-badge.svg\" alt=\"Open In Colab\"/></a>"
      ]
    },
    {
      "cell_type": "code",
      "metadata": {
        "colab": {
          "base_uri": "https://localhost:8080/"
        },
        "id": "LOLAJCfZtzqZ",
        "outputId": "f647000c-21f4-4fc6-fcd2-ecb3b8721587"
      },
      "source": [
        "from sympy import *\r\n",
        "\r\n",
        "x = Symbol('x')\r\n",
        "dx = diff(x**4+3*x**2+10,x)\r\n",
        "print(dx)\r\n",
        "\r\n",
        "x0 = 1.0  \r\n",
        "n = 100 \r\n",
        "lr = 0.01 \r\n",
        "for i in range(0,n):\r\n",
        "    x = symbols('x')\r\n",
        "    x1=x0-((lr)*(dx.subs(x,x0)))\r\n",
        "    x0=x1\r\n",
        "print(round(x0,2))"
      ],
      "execution_count": 8,
      "outputs": [
        {
          "output_type": "stream",
          "text": [
            "4*x**3 + 6*x\n",
            "0.0\n"
          ],
          "name": "stdout"
        }
      ]
    }
  ]
}